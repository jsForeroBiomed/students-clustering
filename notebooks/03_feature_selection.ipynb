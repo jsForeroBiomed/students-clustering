{
 "cells": [
  {
   "cell_type": "code",
   "execution_count": null,
   "id": "c65dfb7b",
   "metadata": {},
   "outputs": [],
   "source": [
    "import pandas as pd\n",
    "import numpy as np\n",
    "import matplotlib.pyplot as plt\n",
    "import seaborn as sns"
   ]
  },
  {
   "cell_type": "code",
   "execution_count": null,
   "id": "b66063e3",
   "metadata": {},
   "outputs": [],
   "source": [
    "%matplotlib tk"
   ]
  },
  {
   "cell_type": "code",
   "execution_count": null,
   "id": "804c705f",
   "metadata": {},
   "outputs": [],
   "source": [
    "df_train = pd.read_parquet(\"data/04_feature/scaled_internal_train\")\n",
    "df_val = pd.read_parquet(\"data/04_feature/scaled_internal_val\")"
   ]
  },
  {
   "cell_type": "code",
   "execution_count": null,
   "id": "ed2e0fa0",
   "metadata": {
    "lines_to_next_cell": 0
   },
   "outputs": [],
   "source": [
    "\n",
    "df_train.corr()\n",
    "# Por correlación alta entre `age` y `gradyear` se elimina `gradyear`."
   ]
  },
  {
   "cell_type": "code",
   "execution_count": null,
   "id": "81131b36",
   "metadata": {},
   "outputs": [],
   "source": [
    "\n",
    "data_train = df_train.copy()\n",
    "data_val = df_val.copy()\n",
    "\n",
    "del data_train['gradyear']\n",
    "\n",
    "del data_val['gradyear']"
   ]
  },
  {
   "cell_type": "code",
   "execution_count": null,
   "id": "7e27a684",
   "metadata": {},
   "outputs": [],
   "source": [
    "from sklearn.feature_selection import VarianceThreshold\n",
    "\n",
    "\n",
    "data_train_columns = data_train.columns\n",
    "\n",
    "variances = data_train.var()\n",
    "print(variances)\n",
    "\n",
    "\n",
    "vt = VarianceThreshold(threshold=0.001)\n",
    "vt.fit(data_train[data_train_columns])\n",
    "data_train_reduced = vt.transform(data_train[data_train_columns])\n",
    "data_train_reduced = vt.transform(data_train[data_train_columns])\n",
    "\n",
    "columns_selected = data_train_columns[vt.get_support()]\n",
    "\n",
    "print(list(columns_selected))"
   ]
  }
 ],
 "metadata": {
  "jupytext": {
   "cell_metadata_filter": "-all",
   "main_language": "python",
   "notebook_metadata_filter": "-all"
  }
 },
 "nbformat": 4,
 "nbformat_minor": 5
}
